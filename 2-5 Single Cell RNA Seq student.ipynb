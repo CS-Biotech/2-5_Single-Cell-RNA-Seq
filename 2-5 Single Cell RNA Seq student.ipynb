{
 "cells": [
  {
   "cell_type": "markdown",
   "metadata": {
    "id": "nuP_hDt0_2nS"
   },
   "source": [
    "# Week 5: Single Cell RNA Sequencing"
   ]
  },
  {
   "cell_type": "markdown",
   "metadata": {
    "id": "7ustDDEVrFQD"
   },
   "source": [
    "## Learning objectives\n",
    "\n",
    "In this module, you will learn to:\n",
    "\n",
    "1. Understand how the limitations of scRNA-seq technology contribute to:\n",
    "    - The importance of cleaning our data\n",
    "    - The statistical distribution of our data\n",
    "2. Write code to:\n",
    "    - Filter `AnnData` (and `DataFrames`) based on column values\n",
    "    - Calculate and plot row sums of count data\n",
    "    - Perform transformations and analyze single-cell data\n",
    "    - Create histograms of specific genes"
   ]
  },
  {
   "cell_type": "markdown",
   "metadata": {
    "id": "6uGoAlahlzAZ"
   },
   "source": [
    "## Setup\n",
    "\n",
    "Before we start, ensure you have all the necessary libraries installed. Run the following commands to install `scanpy` and `AnnData`.\n"
   ]
  },
  {
   "cell_type": "code",
   "execution_count": null,
   "metadata": {
    "colab": {
     "base_uri": "https://localhost:8080/"
    },
    "executionInfo": {
     "elapsed": 22345,
     "status": "ok",
     "timestamp": 1740764377662,
     "user": {
      "displayName": "Emily N",
      "userId": "06222900573658744193"
     },
     "user_tz": 300
    },
    "id": "DvuJRxhkjngd",
    "outputId": "c45028e4-4f22-4c7f-bd0b-97ec46d051a6"
   },
   "outputs": [],
   "source": [
    "!pip install -q AnnData scanpy\n",
    "\n",
    "import os\n",
    "import numpy as np\n",
    "import pandas as pd\n",
    "import matplotlib.pyplot as plt\n",
    "import scanpy as sc\n",
    "from anndata import AnnData"
   ]
  },
  {
   "cell_type": "markdown",
   "metadata": {
    "id": "rE3ttwLJ5dR1"
   },
   "source": [
    "## How do we prepare single-cell data for analysis?\n",
    "\n",
    "Preparing single-cell RNA sequencing (scRNA-seq) data is an important step to ensure accurate results. Raw data often contains noise due to technical issues (e.g., issues while preparing samples), so it’s essential to filter out low-quality cells and genes. Key steps include calculating quality control (QC) metrics, removing unwanted cells or genes based on these metrics, and normalizing the data to adjust for differences in sequencing depth. This process helps make the data more reliable for further analysis, like clustering or identifying cell types, leading to clearer biological insights.\n"
   ]
  },
  {
   "cell_type": "markdown",
   "metadata": {
    "id": "LRM6KzmjTovt"
   },
   "source": [
    "### Analyzing Single-Cell Data\n",
    "\n",
    "A typical scRNA-seq dataset includes:\n",
    "\n",
    "- Thousands of cells (observations).\n",
    "- Gene expression levels across thousands of genes (features).\n",
    "\n",
    "This results in a high-dimensional matrix, where each cell's gene expression profile is a point in this vast space."
   ]
  },
  {
   "cell_type": "markdown",
   "metadata": {},
   "source": [
    "### The `PBMC3K` Dataset\n",
    "\n",
    "In this module, we will be working with the `pbmc3k` dataset, which is an scRNA-seq dataset made publicly available by 10x Genomics. It consists of roughly 3,000 Peripheral Blood Mononuclear Cells (PBMCs) from a healthy donor.\n",
    "\n",
    "PBMCs are a diverse mixture of blood cells, including lymphocytes (T cells, B cells, NK cells), monocytes, and dendritic cells, each playing a crucial role in the immune system. This dataset is often used as a benchmark in scRNA-seq data analysis because it encompasses a variety of cell types, making it ideal for exploring dimensionality reduction techniques and clustering algorithms.\n",
    "\n",
    "(The data is freely available from this [webpage](https://support.10xgenomics.com/single-cell-gene-expression/datasets/1.1.0/pbmc3k).)\n",
    "\n",
    "We'll use a Python library called [`scanpy`](https://scanpy.readthedocs.io/en/stable/) to analyze and visualize single-cell gene expression data, especially from single-cell RNA sequencing (scRNA-seq) experiments. This library stores this data in a new Python object called `AnnData`, which is like a `pandas` `DataFrame` but with more information.\n",
    "Before looking at the data itself, let's get familiar with `AnnData`."
   ]
  },
  {
   "cell_type": "markdown",
   "metadata": {},
   "source": [
    "### What is `AnnData`?\n",
    "\n",
    "Up until now, you have been introduced to dictionaries, `numpy` arrays, and `pandas` `DataFrames`.\n",
    "All of these data structures can now be combined into a single, more complex data structure that typically stores scRNA-seq data called an `Anndata` (annotated data) object.\n",
    "\n",
    "`AnnData` is like a super-organized binder or folder for biological data, especially used in single-cell research (like looking at gene activity in thousands of cells at once).\n",
    "\n",
    "![AnnData Image](https://raw.githubusercontent.com/scverse/anndata/main/docs/_static/img/anndata_schema.svg)\n",
    "Image can be found at [here](https://raw.githubusercontent.com/scverse/anndata/main/docs/_static/img/anndata_schema.svg).\n",
    "\n",
    "**Imagine a binder with 4 main sections:**\n",
    "\n",
    "1. **`X`** – the main table\n",
    "    - This is like a big spreadsheet where:\n",
    "      - Rows = cells (like each cell from a person or mouse)\n",
    "      - Columns = genes (like each gene you measured)\n",
    "      - The values = how much each gene is \"on\" in each cell\n",
    "\n",
    "2. **`obs`** – info about each cell\n",
    "    - Think of sticky notes on each row. They might say:\n",
    "      - “This cell came from a tumor”\n",
    "      - “This cell is a T-cell”\n",
    "      - “This cell came from patient A”\n",
    "\n",
    "3. **`var`** – info about each gene\n",
    "    - Sticky notes on each column. Things like:\n",
    "      - “This gene is related to cancer”\n",
    "      - “This gene is mitochondrial”\n",
    "\n",
    "4. **`uns`** – the junk drawer\n",
    "    - A place to store anything else you need:\n",
    "      - Color maps for plotting\n",
    "      - Settings for visualizations\n",
    "      - Results from analyses\n",
    "      \n",
    "We will focus on `X`, `obs`, and `var` in this module.\n",
    "\n",
    "**Bonus sections (optional but useful):\n",
    "- **`obsm`** – extra information for each cell (like 2D coordinates for plots)\n",
    "- **`varm`** – extra information for each gene\n",
    "- **`layers`** – multiple versions of the data (e.g., raw vs. normalized)\n",
    "\n",
    "**Summary:** `AnnData` is a data container that keeps everything neatly organized when working with tons of biological data. It’s perfect for single-cell experiments where you have info on thousands of cells and genes. Easy to share, analyze, and visualize!\n",
    "\n",
    "Additional details on `Anndata` objects can be found [here](https://anndata.readthedocs.io/en/latest/).\n"
   ]
  },
  {
   "cell_type": "markdown",
   "metadata": {},
   "source": [
    "### Loading the `PBMC3K` Dataset\n",
    "\n",
    "Now that we've seen a bit more about the component parts of `AnnData` objects, we're ready to load the `pbmc3k` dataset from `scanpy`.\n",
    "We will start with the raw dataset (unprocessed), loaded by the following code (code retrieved from [here](https://scanpy-tutorials.readthedocs.io/en/latest/pbmc3k.html)):"
   ]
  },
  {
   "cell_type": "code",
   "execution_count": null,
   "metadata": {
    "colab": {
     "base_uri": "https://localhost:8080/"
    },
    "executionInfo": {
     "elapsed": 1157,
     "status": "ok",
     "timestamp": 1740771430728,
     "user": {
      "displayName": "Emily N",
      "userId": "06222900573658744193"
     },
     "user_tz": 300
    },
    "id": "BJQKNigDa6I3",
    "outputId": "8d0ecef0-680d-4f78-c0ca-14f17a1a99f6"
   },
   "outputs": [],
   "source": [
    "adata = sc.read_10x_mtx(\n",
    "    os.path.join(os.getcwd(),\"data\"),  # The directory with the `.mtx` file\n",
    "    var_names=\"gene_symbols\",  # Use gene symbols for the variable names (variables-axis index)\n",
    "    cache=True,  # Save the data for faster subsequent reading\n",
    ")"
   ]
  },
  {
   "cell_type": "markdown",
   "metadata": {
    "id": "24SKyqERALRH"
   },
   "source": [
    "Now that we have retrieved our scRNA-seq data into an `AnnData` object, let's access specific components of the data and make some interpretations.\n",
    "\n",
    "Recall that for an `AnnData` object, the `X` attribute stores the main table, which for scRNA-seq data is a count matrix. Here is a simplified example of what the count matrix might look like:\n",
    "\n",
    "```\n",
    "          Gene_1  Gene_2  Gene_3  Gene_4  Gene_5 ...\n",
    "Cell_1      5       0       2       0       0\n",
    "Cell_2      0       3       1       0       0\n",
    "Cell_3      7       1       0       4       3\n",
    "Cell_4      0       0       0       0       0\n",
    "...\n",
    "```\n",
    "\n",
    "The rows are the cells and the columns are the genes. Each value represents the number of unique transcript molecules (UMI counts) detected for a specific gene in a single cell. Unique transcript molecules (UMI counts) = the deduplicated count of original RNA molecules per gene per cell, providing a more accurate measure of gene expression.\n",
    "\n",
    "Let's explore the actual `adata.X` table we've loaded in."
   ]
  },
  {
   "cell_type": "code",
   "execution_count": null,
   "metadata": {
    "colab": {
     "base_uri": "https://localhost:8080/"
    },
    "executionInfo": {
     "elapsed": 36,
     "status": "ok",
     "timestamp": 1740771431246,
     "user": {
      "displayName": "Emily N",
      "userId": "06222900573658744193"
     },
     "user_tz": 300
    },
    "id": "sUQLAOLiASbl",
    "outputId": "5752f63c-d620-4574-f4cb-87642e322264"
   },
   "outputs": [],
   "source": [
    "# Here is the shape of the data; how many cells and genes are represented in the dataset?\n",
    "print(adata.X.shape)\n",
    "\n",
    "# To print out just the values from the count matrix, we can use:\n",
    "print(adata.X.toarray())"
   ]
  },
  {
   "cell_type": "markdown",
   "metadata": {},
   "source": [
    "---\n",
    "**Q*1: Calculate the percentage of non-zeroes in the count matrix. Why is the matrix so sparse (most of the elements are zero)?**\n",
    "\n",
    "<span style=\"background-color: #FFD700\">**Write your code below**</span>\n"
   ]
  },
  {
   "cell_type": "code",
   "execution_count": null,
   "metadata": {},
   "outputs": [],
   "source": [
    "# YOUR CODE HERE\n",
    "percent_zeros = ...\n",
    "print(f\"Percent of non zeros: {percent_zeros:.2f}%\")"
   ]
  },
  {
   "cell_type": "markdown",
   "metadata": {},
   "source": [
    "<span style=\"background-color: #FFD700\">**Write your answer below**</span>"
   ]
  },
  {
   "cell_type": "markdown",
   "metadata": {},
   "source": [
    "Answer:\n",
    "\n",
    "---"
   ]
  },
  {
   "cell_type": "markdown",
   "metadata": {},
   "source": [
    "Next, let's look at the `adata.obs` and `adata.var` components, which store information about the cells and genes in the dataset, respectively."
   ]
  },
  {
   "cell_type": "code",
   "execution_count": null,
   "metadata": {},
   "outputs": [],
   "source": [
    "adata.obs"
   ]
  },
  {
   "cell_type": "markdown",
   "metadata": {},
   "source": [
    "`adata.obs` contains one column with *cell barcodes*, unique identifiers (typically RNA or DNA sequences) that are attached to individual cells to track them over time."
   ]
  },
  {
   "cell_type": "code",
   "execution_count": null,
   "metadata": {},
   "outputs": [],
   "source": [
    "adata.var"
   ]
  },
  {
   "cell_type": "markdown",
   "metadata": {},
   "source": [
    "`adata.var` shows useful metadata about the genes: their name and id."
   ]
  },
  {
   "cell_type": "markdown",
   "metadata": {
    "id": "UO03nDr5CGRZ"
   },
   "source": [
    "Before making changes to our dataset, we might want to keep the original raw data. Preserving raw data in single-cell RNA sequencing ensures reproducibility, accuracy, and flexibility for downstream analyses by maintaining unaltered counts for reference and transformation."
   ]
  },
  {
   "cell_type": "code",
   "execution_count": null,
   "metadata": {
    "colab": {
     "base_uri": "https://localhost:8080/"
    },
    "executionInfo": {
     "elapsed": 596,
     "status": "ok",
     "timestamp": 1740771435625,
     "user": {
      "displayName": "Emily N",
      "userId": "06222900573658744193"
     },
     "user_tz": 300
    },
    "id": "4684rPCSCUJc",
    "outputId": "edc853cb-2f0b-451a-d8fe-db26dbed9720"
   },
   "outputs": [],
   "source": [
    "# Copies the entire AnnData object, preserving/storing raw counts in `adata.raw.X`\n",
    "adata.raw = adata.copy()"
   ]
  },
  {
   "cell_type": "markdown",
   "metadata": {
    "id": "1zTLvT6q6UpM"
   },
   "source": [
    "## Data cleaning\n",
    "\n",
    "Next, let's do some data cleaning on the raw data we have!\n",
    "\n",
    "We want to exclude cells that have poor-quality data, such as cells with:\n",
    "\n",
    "- **Library Size**: The library size is defined as the total sum of counts across all genes for a given cell. A cell with a low library size may indicate poor-quality data, possibly due to issues like cell damage, inefficient cell capture, or incomplete RNA extraction.\n",
    "\n",
    "- **Expressed Genes**: The number of unique genes with non-zero expression in the cell. Cells with few expressed genes are likely to be of poor quality, as it suggests that the full spectrum of the cell's RNA population was not detected (due to cell damage or improper experimental procedures).\n",
    "\n",
    "- **High Mitochondrial Gene Expression**: If a cell shows high levels of mitochondrial gene expression relative to other genes, it may indicate that the cell is damaged or dying. For modest damage, the holes in the cell membrane are too small to allow for mitochondria to escape. As a result, high mitochondrial gene expression is often a marker of poor-quality cells, which may need to be excluded from further analysis due to compromised integrity.\n",
    "\n",
    "For more information about quality control, refer to this [webpage](https://bioconductor.org/books/3.12/OSCA/quality-control.html).\n",
    "\n",
    "The following data processing and visualization exercises in this section are based on this [webpage](https://scanpy.readthedocs.io/en/stable/tutorials/basics/clustering-2017.html).\n",
    "\n",
    "### Exploration: highly-expressed genes\n",
    "\n",
    "Let's look at the top 20 expressed genes for our dataset:"
   ]
  },
  {
   "cell_type": "code",
   "execution_count": null,
   "metadata": {},
   "outputs": [],
   "source": [
    "# Sum expression counts across all cells for each gene (sum over rows for each column)\n",
    "gene_counts = np.array(adata.X.sum(axis=0)).flatten()  # axis = 0 sums down the rows, so per gene total counts\n",
    "\n",
    "# Create a DataFrame summarizing gene names and their total counts\n",
    "gene_summary = pd.DataFrame({\n",
    "    'gene': adata.var_names,     # Gene symbols/names from the AnnData object\n",
    "    'gene_counts': gene_counts   # Total counts summed across all cells for each gene\n",
    "})\n",
    "\n",
    "# Calculate the total sum of all gene counts across all genes (total transcript molecules)\n",
    "total_counts_all = gene_counts.sum()\n",
    "\n",
    "# Calculate the fraction (%) that each gene contributes to the total counts\n",
    "gene_summary['fraction'] = gene_summary['gene_counts'] / total_counts_all * 100\n",
    "\n",
    "# Sort the DataFrame by the fraction in descending order and show the top 20 genes\n",
    "gene_summary.sort_values(by='fraction', ascending=False).head(20)"
   ]
  },
  {
   "cell_type": "markdown",
   "metadata": {},
   "source": [
    "We just completed a manual computation of the total sum of all gene counts across all genes (total transcript molecules) and the fraction (%) that each gene contributes to the total counts.\n",
    "\n",
    "Let's compare our results to the `sc.pl.highest_expr_genes()` function, a built-in tool in `scanpy` that quickly identifies and visualizes the genes with the highest expression levels across the dataset. It calculates the total counts for each gene and displays the top genes contributing most to the overall transcriptome. Refer to the documentation [here](https://scanpy.readthedocs.io/en/1.11.x/api/generated/scanpy.pl.highest_expr_genes.html).\n",
    "\n",
    "Now, let's see how to use it."
   ]
  },
  {
   "cell_type": "code",
   "execution_count": null,
   "metadata": {
    "colab": {
     "base_uri": "https://localhost:8080/",
     "height": 503
    },
    "executionInfo": {
     "elapsed": 789,
     "status": "ok",
     "timestamp": 1740771438969,
     "user": {
      "displayName": "Emily N",
      "userId": "06222900573658744193"
     },
     "user_tz": 300
    },
    "id": "fbdKrY5CCRzL",
    "outputId": "7f00491e-54d9-41e7-b7f2-ab60a94ec57c"
   },
   "outputs": [],
   "source": [
    "# Show those genes that yield the highest fraction of counts in each single cell, across all cells.\n",
    "sc.pl.highest_expr_genes(adata, n_top=20)"
   ]
  },
  {
   "cell_type": "markdown",
   "metadata": {},
   "source": [
    "### Filtering Low Library Size and Few Expressed Genes"
   ]
  },
  {
   "cell_type": "markdown",
   "metadata": {},
   "source": [
    "Let's try filtering by library size. We will choose a minimum of 1000 total gene count expressed in a cell."
   ]
  },
  {
   "cell_type": "code",
   "execution_count": null,
   "metadata": {},
   "outputs": [],
   "source": [
    "# 1. Count how many genes are expressed in each cell (non-zero values)\n",
    "n_genes_per_cell = adata.X.sum(axis=1)\n",
    "\n",
    "# 2. Create a boolean mask - which rows are cells that contain a minimum of 1000 genes\n",
    "cells_with_1000_genes = n_genes_per_cell >= 1000\n",
    "\n",
    "# 3. Filter the AnnData object\n",
    "adata_filtered = adata[cells_with_1000_genes, :]\n",
    "\n",
    "# Let's look at the results of this filtering\n",
    "print(f\"Original number of cells: {adata.shape[0]}\")\n",
    "print(f\"Filtered number of cells: {adata_filtered.shape[0]}\")"
   ]
  },
  {
   "cell_type": "markdown",
   "metadata": {
    "id": "6cfBfmeyOh0L"
   },
   "source": [
    "---\n",
    "**Q*2: Filter the cells by unique expressed genes with a minimum of 2000, storing the filtered data in a variable called `adata_filtered_2000`.**\n",
    "\n",
    "<span style=\"background-color: #FFD700\">**Write your code below**</span>\n"
   ]
  },
  {
   "cell_type": "code",
   "execution_count": null,
   "metadata": {
    "id": "5cIeNu1uOg4A"
   },
   "outputs": [],
   "source": [
    "# YOUR CODE HERE\n",
    "\n",
    "# 1. Count how many genes are expressed in each cell (non-zero values)\n",
    "\n",
    "\n",
    "# 2. Create a boolean mask - which rows are cells that contain a minimum of 2000 genes\n",
    "\n",
    "\n",
    "# 3. Filter the AnnData object\n",
    "\n",
    "\n",
    "# Let's look at the results of this filtering\n",
    "print(f\"Original number of cells: {adata.shape[0]}\")\n",
    "print(f\"Filtered number of cells: {adata_filtered_2000.shape[0]}\")"
   ]
  },
  {
   "cell_type": "markdown",
   "metadata": {
    "id": "1M6IH21NQ6PV"
   },
   "source": [
    "---\n",
    "#### **QC Metrics**\n",
    "\n",
    "In single-cell RNA sequencing (scRNA-seq), mitochondrial gene expression serves as an important quality control (QC) metric because high mitochondrial content often indicates stressed, damaged, or dying cells. Healthy cells typically have low mitochondrial gene expression, while cells under stress or apoptosis may show elevated mitochondrial gene expression.\n",
    "\n",
    "Let's analyze the QC results of our dataset."
   ]
  },
  {
   "cell_type": "code",
   "execution_count": null,
   "metadata": {
    "id": "4JI3UiaGRC3C"
   },
   "outputs": [],
   "source": [
    "# Annotate the group of mitochondrial genes as \"MT\" - assigns a boolean value for each gene\n",
    "adata_filtered.var[\"mt\"] = adata_filtered.var_names.str.startswith(\"MT-\")\n",
    "\n",
    "sc.pp.calculate_qc_metrics(\n",
    "    adata_filtered, qc_vars=[\"mt\"], percent_top=None, log1p=False, inplace=True\n",
    ")"
   ]
  },
  {
   "cell_type": "markdown",
   "metadata": {
    "id": "quxk6EJZReQY"
   },
   "source": [
    "After running `calculate_qc_metrics()`, the QC metrics will be stored in `adata.obs`, which contains metrics like:\n",
    "- **`n_genes_by_counts`**: The number of genes detected in each cell.\n",
    "- **`total_counts`**: The total number of reads (or counts) in each cell.\n",
    "- **`total_counts_mt`**: The total number of reads (or counts) coming from mitochondrial genes for each cell.\n",
    "- **`pct_counts_mt`**: The percentage of counts coming from mitochondrial genes for each cell.\n",
    "\n",
    "The `adata.obs` field should now be populated!"
   ]
  },
  {
   "cell_type": "code",
   "execution_count": null,
   "metadata": {
    "colab": {
     "base_uri": "https://localhost:8080/",
     "height": 423
    },
    "executionInfo": {
     "elapsed": 56,
     "status": "ok",
     "timestamp": 1740771446636,
     "user": {
      "displayName": "Emily N",
      "userId": "06222900573658744193"
     },
     "user_tz": 300
    },
    "id": "J_EmLBmiR1bA",
    "outputId": "2251d2cf-6920-404c-9c62-1973807577bd"
   },
   "outputs": [],
   "source": [
    "adata_filtered.obs"
   ]
  },
  {
   "cell_type": "markdown",
   "metadata": {
    "id": "0GSHf64M-eLS"
   },
   "source": [
    "Let's try viewing information of a specific sample cell:"
   ]
  },
  {
   "cell_type": "code",
   "execution_count": null,
   "metadata": {
    "colab": {
     "base_uri": "https://localhost:8080/",
     "height": 81
    },
    "executionInfo": {
     "elapsed": 45,
     "status": "ok",
     "timestamp": 1740771449104,
     "user": {
      "displayName": "Emily N",
      "userId": "06222900573658744193"
     },
     "user_tz": 300
    },
    "id": "s6VocbOa5Gcy",
    "outputId": "74e56519-3c93-4da5-e679-a59791b10d4a"
   },
   "outputs": [],
   "source": [
    "name_of_the_sample = 'TTTGCATGAGAGGC-1'\n",
    "\n",
    "adata_filtered.obs[adata_filtered.obs.index == name_of_the_sample]"
   ]
  },
  {
   "cell_type": "markdown",
   "metadata": {
    "id": "gxbbi5LISOng"
   },
   "source": [
    "---\n",
    "**Q*3: Calculate the average value for each column and print: `n_genes_by_counts`,\t`total_counts`,\t`total_counts_mt`,\t`pct_counts_mt`.**\n",
    "\n",
    "> Hint: Refer to the documentation for `DataFrame.mean()` [here](https://pandas.pydata.org/docs/reference/api/pandas.DataFrame.mean.html#pandas-dataframe-mean).\n",
    "\n",
    "<span style=\"background-color: #FFD700\">**Write your code below**</span>\n"
   ]
  },
  {
   "cell_type": "code",
   "execution_count": null,
   "metadata": {
    "colab": {
     "base_uri": "https://localhost:8080/"
    },
    "executionInfo": {
     "elapsed": 69,
     "status": "ok",
     "timestamp": 1740771450867,
     "user": {
      "displayName": "Emily N",
      "userId": "06222900573658744193"
     },
     "user_tz": 300
    },
    "id": "MNDwG9YCSDfU",
    "outputId": "60cabcb2-8276-4851-c55b-a6b304e1f6f7"
   },
   "outputs": [],
   "source": [
    "# YOUR CODE HERE\n",
    "\n",
    "ave_n_genes_by_counts = \n",
    "ave_total_counts = \n",
    "ave_total_counts_mt = \n",
    "ave_pct_counts_mt = \n",
    "\n",
    "print(f\"average n_genes_by_counts: {ave_n_genes_by_counts}\")\n",
    "print(f\"average total_counts: {ave_total_counts}\")\n",
    "print(f\"average total_counts_mt: {ave_total_counts_mt}\")\n",
    "print(f\"average pct_counts_mt: {ave_pct_counts_mt}\")"
   ]
  },
  {
   "cell_type": "markdown",
   "metadata": {
    "id": "wzNAEVVgTqE2"
   },
   "source": [
    "---\n",
    "Let's try visualizing our results by creating a histogram of the total gene counts of the cells:"
   ]
  },
  {
   "cell_type": "code",
   "execution_count": null,
   "metadata": {
    "colab": {
     "base_uri": "https://localhost:8080/",
     "height": 330
    },
    "executionInfo": {
     "elapsed": 1575,
     "status": "ok",
     "timestamp": 1740771455336,
     "user": {
      "displayName": "Emily N",
      "userId": "06222900573658744193"
     },
     "user_tz": 300
    },
    "id": "c9e5WJ-jTsUT",
    "outputId": "9e702ae3-727d-4d6e-cfa7-602338f2e8fd"
   },
   "outputs": [],
   "source": [
    "plt.hist(adata_filtered.obs['n_genes_by_counts'], bins=50, color='skyblue', edgecolor='black')\n",
    "plt.title(f'Histogram of n_genes_by_counts')\n",
    "plt.xlabel('n_genes_by_counts')\n",
    "plt.ylabel('Number of Cells')\n",
    "\n",
    "plt.tight_layout()\n",
    "plt.show()"
   ]
  },
  {
   "cell_type": "markdown",
   "metadata": {},
   "source": [
    "---\n",
    "**Q*4: Create a histogram for `total_counts`, `total_counts_mt`, and `pct_counts_mt`. Set `bins=50`.**\n",
    "\n",
    "> Hint: Try to use a `for` loop to reduce redundancy in your code."
   ]
  },
  {
   "cell_type": "code",
   "execution_count": null,
   "metadata": {},
   "outputs": [],
   "source": [
    "# YOUR CODE HERE\n",
    "\n",
    "# SOLUTION\n",
    "\n",
    "metrics = ['total_counts',\t'total_counts_mt', 'pct_counts_mt']\n",
    "\n",
    "for metric in metrics:\n",
    "  plt.hist(adata_filtered.obs[metric], bins=50, color='skyblue', edgecolor='black')\n",
    "  plt.title(f'Histogram of {metric}')\n",
    "  plt.xlabel(metric)\n",
    "  plt.ylabel('Number of Cells')\n",
    "\n",
    "  plt.tight_layout()\n",
    "  plt.show()"
   ]
  },
  {
   "cell_type": "markdown",
   "metadata": {
    "id": "zHyRpBq3VY07"
   },
   "source": [
    "---\n",
    "\n",
    "We can filter for large gene counts by slicing the `AnnData` object:"
   ]
  },
  {
   "cell_type": "code",
   "execution_count": null,
   "metadata": {
    "id": "4ueZFL9RVXrx"
   },
   "outputs": [],
   "source": [
    "adata_final = adata_filtered[adata_filtered.obs.n_genes_by_counts < 2500, :]"
   ]
  },
  {
   "cell_type": "markdown",
   "metadata": {
    "id": "Rpryo3f9VwAZ"
   },
   "source": [
    "---\n",
    "**Q*5: Try filtering by percentage of mitochondrial genes expressed less than 5%. How many entries were there before and after filtering?**\n",
    "\n",
    "<span style=\"background-color: #FFD700\">**Write your code below**</span>\n"
   ]
  },
  {
   "cell_type": "code",
   "execution_count": null,
   "metadata": {
    "colab": {
     "base_uri": "https://localhost:8080/"
    },
    "executionInfo": {
     "elapsed": 36,
     "status": "ok",
     "timestamp": 1740771458266,
     "user": {
      "displayName": "Emily N",
      "userId": "06222900573658744193"
     },
     "user_tz": 300
    },
    "id": "jn5P8sScVvYe",
    "outputId": "49c36853-980a-4138-e54c-c42a5aaea985"
   },
   "outputs": [],
   "source": [
    "# YOUR CODE HERE\n"
   ]
  },
  {
   "cell_type": "markdown",
   "metadata": {
    "id": "oc__VzLDpLpq"
   },
   "source": [
    "---\n",
    "### Normalization\n",
    "\n",
    "Normalization allows for a fairer comparison of gene expression across cells with different total counts, removes biases introduced by differences in sequencing depth, and prepares the data for meaningful downstream analysis. The `sc.pp.normalize_total()` function in particular scales the counts to a target total count, which helps standardize the data."
   ]
  },
  {
   "cell_type": "code",
   "execution_count": null,
   "metadata": {},
   "outputs": [],
   "source": [
    "adata_final.obs"
   ]
  },
  {
   "cell_type": "code",
   "execution_count": null,
   "metadata": {
    "id": "IgHSahzdp5mE"
   },
   "outputs": [],
   "source": [
    "sc.pp.normalize_total(adata_final, target_sum=1e4)"
   ]
  },
  {
   "cell_type": "markdown",
   "metadata": {},
   "source": [
    "Note that we chose `target_sum=1e4`. Here are the following factors to consider when choosing this value:\n",
    "- **Target Sum of 1e4**: A common choice for many single-cell RNA-seq datasets.\n",
    "- **Choose Based on Sequencing Depth**: Higher sequencing depth might require a larger target sum.\n",
    "- **Visualize Your Data**: Check the distribution of total counts and pick a target sum that reflects the typical sequencing depth in your dataset."
   ]
  },
  {
   "cell_type": "markdown",
   "metadata": {
    "id": "dOX5Eq6Pq9a3"
   },
   "source": [
    "---\n",
    "**Q*6: Redo the QC metric calculations and print the resulting `obs`.**\n",
    "\n",
    "> Hint: After printing out `obs`, check that `total_counts` for each cell roughly equals the value that you normalized to (1e4).\n",
    "\n",
    "<span style=\"background-color: #FFD700\">**Write your code below**</span>\n"
   ]
  },
  {
   "cell_type": "code",
   "execution_count": null,
   "metadata": {
    "colab": {
     "base_uri": "https://localhost:8080/",
     "height": 423
    },
    "executionInfo": {
     "elapsed": 63,
     "status": "ok",
     "timestamp": 1740771521071,
     "user": {
      "displayName": "Emily N",
      "userId": "06222900573658744193"
     },
     "user_tz": 300
    },
    "id": "8rxh2Q6vp65g",
    "outputId": "c6efbff7-acaa-4f82-c476-9ae5b3e1788b"
   },
   "outputs": [],
   "source": [
    "# YOUR CODE HERE\n",
    "\n",
    "...\n",
    "\n",
    "adata_final.obs"
   ]
  },
  {
   "cell_type": "markdown",
   "metadata": {
    "id": "bzqSkM1yAcKc"
   },
   "source": [
    "---\n",
    "You can also make modifications to the `AnnData` object and store it back in the same object as a layer. This allows you to store different versions or transformations of the data while retaining the original."
   ]
  },
  {
   "cell_type": "code",
   "execution_count": null,
   "metadata": {
    "colab": {
     "base_uri": "https://localhost:8080/"
    },
    "executionInfo": {
     "elapsed": 1100,
     "status": "ok",
     "timestamp": 1740770763258,
     "user": {
      "displayName": "Emily N",
      "userId": "06222900573658744193"
     },
     "user_tz": 300
    },
    "id": "4c3xWuvvAYoc",
    "outputId": "55644b1f-b63c-4b60-fdcf-0c7ff9f36b41"
   },
   "outputs": [],
   "source": [
    "# Access the cell expression matrix values of the anndata object, log normalize it,\n",
    "# and store a normalized version of the data as a log_transformed layer\n",
    "\n",
    "adata_final.layers[\"log_transformed\"] = np.log1p(adata_final.X).toarray()\n",
    "adata_final.layers[\"log_transformed\"]"
   ]
  },
  {
   "cell_type": "markdown",
   "metadata": {
    "id": "mqjoVRM40BKP"
   },
   "source": [
    "### What does single-cell data look like?"
   ]
  },
  {
   "cell_type": "markdown",
   "metadata": {
    "id": "WKJyVawlpZgn"
   },
   "source": [
    "We will use the **preprocessed data** for the `PBMC3K` dataset for the rest of the module. Data retrieved from [here](https://scanpy.readthedocs.io/en/stable/generated/scanpy.datasets.pbmc3k_processed.html) and [here](https://scanpy.readthedocs.io/en/stable/tutorials/basics/clustering-2017.html)."
   ]
  },
  {
   "cell_type": "code",
   "execution_count": null,
   "metadata": {
    "id": "uaM-u0sw0mPm"
   },
   "outputs": [],
   "source": [
    "pbmc3k_data = sc.datasets.pbmc3k()"
   ]
  },
  {
   "cell_type": "markdown",
   "metadata": {
    "id": "tOvDmWXd1gS-"
   },
   "source": [
    "Let's plot the histogram of a specific gene. For better visualization, we want to plot for a gene that is expressed in `n = 2000` numbers of cells:"
   ]
  },
  {
   "cell_type": "code",
   "execution_count": null,
   "metadata": {
    "colab": {
     "base_uri": "https://localhost:8080/"
    },
    "executionInfo": {
     "elapsed": 20,
     "status": "ok",
     "timestamp": 1740765347522,
     "user": {
      "displayName": "Emily N",
      "userId": "06222900573658744193"
     },
     "user_tz": 300
    },
    "id": "qiRkg48uVyqc",
    "outputId": "41455eb5-9c46-4f70-fead-b4f59f342c8e"
   },
   "outputs": [],
   "source": [
    "gene_ids = pbmc3k_data.var['gene_ids']\n",
    "\n",
    "n = 2000\n",
    "\n",
    "# Count non-zero values for each gene (column) using getnnz(axis=0)\n",
    "non_zero_counts = pbmc3k_data.X.getnnz(axis=0)\n",
    "\n",
    "# Filter genes based on non-zero count exceeding the threshold 'n'\n",
    "genes_above_threshold = gene_ids.index[non_zero_counts > n]\n",
    "\n",
    "# Print the filtered genes\n",
    "genes_above_threshold"
   ]
  },
  {
   "cell_type": "code",
   "execution_count": null,
   "metadata": {
    "colab": {
     "base_uri": "https://localhost:8080/",
     "height": 472
    },
    "executionInfo": {
     "elapsed": 259,
     "status": "ok",
     "timestamp": 1740765409359,
     "user": {
      "displayName": "Emily N",
      "userId": "06222900573658744193"
     },
     "user_tz": 300
    },
    "id": "8BPnLSWM1pQ8",
    "outputId": "a3a564aa-0fe9-435c-a725-e00d9ffe1bb5"
   },
   "outputs": [],
   "source": [
    "gene = genes_above_threshold[0]\n",
    "\n",
    "expression = pbmc3k_data[:, gene].X.toarray().flatten()\n",
    "plt.hist(expression, bins=10, color='skyblue', edgecolor='black')\n",
    "plt.title(f'Histogram of {gene} Expression')\n",
    "plt.xlabel('Expression level')\n",
    "plt.ylabel('Number of cells')\n",
    "plt.show()"
   ]
  },
  {
   "cell_type": "markdown",
   "metadata": {
    "id": "eIZosJWv3s8a"
   },
   "source": [
    "Variability in gene expression across cells for specific genes arises from a complex interplay of transcriptional regulation, chromatin state, post-transcriptional control, stochasticity, and external signals, all of which can be unique to each cell's context, state, or environment."
   ]
  },
  {
   "cell_type": "markdown",
   "metadata": {
    "id": "m0kUQXbZtHyH"
   },
   "source": [
    "---\n",
    "**Q*7: Plot the histogram of five other genes. What do you notice about their distribution and why is it like that?**\n",
    "\n",
    "> Hint: Use a `for` loop to prevent redundant code.\n",
    "\n",
    "<span style=\"background-color: #FFD700\">**Write your code below**</span>"
   ]
  },
  {
   "cell_type": "code",
   "execution_count": null,
   "metadata": {
    "colab": {
     "base_uri": "https://localhost:8080/",
     "height": 1000
    },
    "executionInfo": {
     "elapsed": 2490,
     "status": "ok",
     "timestamp": 1740765519088,
     "user": {
      "displayName": "Emily N",
      "userId": "06222900573658744193"
     },
     "user_tz": 300
    },
    "id": "quSsujABtHN3",
    "outputId": "1028bd16-2442-4c9f-8a72-2b5dae50fbab"
   },
   "outputs": [],
   "source": [
    "# YOUR CODE HERE\n"
   ]
  },
  {
   "cell_type": "markdown",
   "metadata": {
    "id": "3P7uAYB3t_pY"
   },
   "source": [
    "<span style=\"background-color: #FFD700\">**Write your answer below**</span>\n"
   ]
  },
  {
   "cell_type": "markdown",
   "metadata": {},
   "source": [
    "Answer:\n",
    "\n",
    "---"
   ]
  },
  {
   "cell_type": "markdown",
   "metadata": {
    "id": "bkSppg1w5SXp"
   },
   "source": [
    "**Q*8: Calculate the total gene count per cell. Then, calculate the mean total gene count.**\n",
    "> Hint: Code to sum along an axis: `matrix.sum(axis=...)`. Think about what are the different values for `axis`, and what do they mean?\n",
    "\n",
    "<span style=\"background-color: #FFD700\">**Write your code below**</span>\n"
   ]
  },
  {
   "cell_type": "code",
   "execution_count": null,
   "metadata": {
    "colab": {
     "base_uri": "https://localhost:8080/"
    },
    "executionInfo": {
     "elapsed": 41,
     "status": "ok",
     "timestamp": 1740768755840,
     "user": {
      "displayName": "Emily N",
      "userId": "06222900573658744193"
     },
     "user_tz": 300
    },
    "id": "GZi67gMX37HV",
    "outputId": "be027c30-f41c-49c4-95b0-0c2bddc0197f"
   },
   "outputs": [],
   "source": [
    "# YOUR CODE HERE\n",
    "\n",
    "# Calculate total counts per cell\n",
    "total_counts_per_cell = \n",
    "\n",
    "# Calculate mean\n",
    "mean_count = \n",
    "\n",
    "print(total_counts_per_cell)\n",
    "print(mean_count)"
   ]
  },
  {
   "cell_type": "markdown",
   "metadata": {
    "id": "TUH4H8_k6cfX"
   },
   "source": [
    "---\n",
    "**Q*9: Plot a histogram of the total counts per cell. Compare bin size `5` vs. `50`. Which is the better option to visualize the distribution of the number of cells vs total gene count?**\n",
    "\n",
    "**Add a vertical line for the mean using `matplotlib.axvline()`. Add labels and a legend.**\n",
    "\n",
    "<span style=\"background-color: #FFD700\">**Write your code below**</span>\n"
   ]
  },
  {
   "cell_type": "code",
   "execution_count": null,
   "metadata": {
    "colab": {
     "base_uri": "https://localhost:8080/",
     "height": 472
    },
    "executionInfo": {
     "elapsed": 403,
     "status": "ok",
     "timestamp": 1740768758249,
     "user": {
      "displayName": "Emily N",
      "userId": "06222900573658744193"
     },
     "user_tz": 300
    },
    "id": "H9duL54K4Z0N",
    "outputId": "db36c08f-04c0-4e05-c284-a0aa0f8fa683"
   },
   "outputs": [],
   "source": [
    "# YOUR CODE HERE\n",
    "\n",
    "# Plot histogram of total counts per cell\n",
    "\n",
    "\n",
    "# Plot vertical lines for mean, median, and IQR\n",
    "\n",
    "\n",
    "# Customize the plot\n",
    "\n",
    "\n",
    "# Show the plot\n",
    "\n"
   ]
  },
  {
   "cell_type": "markdown",
   "metadata": {},
   "source": [
    "<span style=\"background-color: #FFD700\">**Write your answer below**</span>"
   ]
  },
  {
   "cell_type": "markdown",
   "metadata": {},
   "source": [
    "Answer here:\n",
    "\n",
    "---"
   ]
  },
  {
   "cell_type": "markdown",
   "metadata": {
    "id": "IXPHvpaFrhc1"
   },
   "source": [
    "## **Graded Exercises: (8 marks)**"
   ]
  },
  {
   "cell_type": "markdown",
   "metadata": {
    "id": "ybO4GQiRro9z"
   },
   "source": [
    "**GQ*1. (2 marks) What is `AnnData` in Python, and what are its key components?**\n",
    "\n",
    "<span style=\"background-color: #FFD700\">**Write your answer below**</span>"
   ]
  },
  {
   "cell_type": "markdown",
   "metadata": {},
   "source": [
    "Answer:\n",
    "\n",
    "---"
   ]
  },
  {
   "cell_type": "markdown",
   "metadata": {
    "id": "RuhwIK55rrVO"
   },
   "source": [
    "**GQ*2. (2 marks) Explain how you would scale the raw RNA-seq counts in `AnnData` to prepare data for downstream analysis, such as for PCA or clustering, which we’ll explore in future modules.**\n",
    "\n",
    "> Hint: There is a built-in function for `scanpy`. Look up the documentation for details and how it works.\n",
    "\n",
    "<span style=\"background-color: #FFD700\">**Write your answer below**</span>\n"
   ]
  },
  {
   "cell_type": "markdown",
   "metadata": {},
   "source": [
    "Answer:\n",
    "\n",
    "---"
   ]
  },
  {
   "cell_type": "markdown",
   "metadata": {},
   "source": [
    "**GQ*3. (2 marks) Using a new `AnnData` object shown below, normalize the data (`target_sum=1e4`), perform QC calculations, and print the results.**\n"
   ]
  },
  {
   "cell_type": "markdown",
   "metadata": {},
   "source": [
    "The following code retrieves data from [Gene Expression - Feature / cell matrix (per-sample)](https://www.10xgenomics.com/datasets/10k_Human_PBMC_5p_v3_Ultima)."
   ]
  },
  {
   "cell_type": "code",
   "execution_count": null,
   "metadata": {},
   "outputs": [],
   "source": [
    "adata_gq = sc.read_10x_mtx(\n",
    "    os.path.join(os.getcwd(), \"data_graded\"),  # The directory with the `.mtx` file\n",
    "    var_names=\"gene_symbols\",  # Use gene symbols for the variable names (variables-axis index)\n",
    "    cache=True,  # Write a cache file for faster subsequent reading\n",
    ")\n",
    "sc.pp.filter_cells(adata_gq, min_genes=1000)"
   ]
  },
  {
   "cell_type": "markdown",
   "metadata": {},
   "source": [
    "<span style=\"background-color: #FFD700\">**Write your code below**</span>\n"
   ]
  },
  {
   "cell_type": "code",
   "execution_count": null,
   "metadata": {},
   "outputs": [],
   "source": [
    "# YOUR CODE HERE\n"
   ]
  },
  {
   "cell_type": "markdown",
   "metadata": {},
   "source": [
    "**GQ*4. (2 marks) Using the new `AnnData` object shown above, display the top 20 expressed genes.**\n",
    "\n",
    "<span style=\"background-color: #FFD700\">**Write your code below**</span>"
   ]
  },
  {
   "cell_type": "code",
   "execution_count": null,
   "metadata": {},
   "outputs": [],
   "source": [
    "# YOUR CODE HERE\n"
   ]
  },
  {
   "cell_type": "markdown",
   "metadata": {
    "id": "NjFyP9Fyi6QF"
   },
   "source": [
    "## Conclusion\n",
    "\n",
    "Single-cell data often comes in the form of count matrices stored in `AnnData`, with a focus on sparsity, where many gene expressions are zero for each cell. Preprocessing single-cell data involves filtering low-quality cells and genes, calculating quality control metrics, and normalizing the data to ensure comparability across cells. These steps are essential to prepare the data for downstream analysis, enabling researchers to uncover meaningful biological patterns and better understand cellular processes in health and disease.\n",
    "\n",
    "In this module, you've gained hands-on experience in preprocessing, manipulating, and analyzing single-cell RNA-seq data using the `AnnData` object. These skills are essential for preparing data, performing quality control, and conducting in-depth analyses of transcriptomic data."
   ]
  }
 ],
 "metadata": {
  "colab": {
   "provenance": [
    {
     "file_id": "1ksKE-UMqlc94iLhoVcjZMUQOK5_FhGRa",
     "timestamp": 1737299807467
    }
   ],
   "toc_visible": true
  },
  "kernelspec": {
   "display_name": "Python 3 (ipykernel)",
   "language": "python",
   "name": "python3"
  },
  "language_info": {
   "codemirror_mode": {
    "name": "ipython",
    "version": 3
   },
   "file_extension": ".py",
   "mimetype": "text/x-python",
   "name": "python",
   "nbconvert_exporter": "python",
   "pygments_lexer": "ipython3",
   "version": "3.11.6"
  }
 },
 "nbformat": 4,
 "nbformat_minor": 4
}
